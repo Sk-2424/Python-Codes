{
 "cells": [
  {
   "cell_type": "code",
   "execution_count": 1,
   "id": "fb673346",
   "metadata": {},
   "outputs": [],
   "source": [
    "import numpy as np"
   ]
  },
  {
   "cell_type": "markdown",
   "id": "f34aa04b",
   "metadata": {},
   "source": [
    "<b>Write a function called generate_random_array that takes rows, columns, lower_limit, and upper_limit as input and returns a random 2D NumPy array of size (rows, columns) with values in the specified range [lower_limit, upper_limit).</b>"
   ]
  },
  {
   "cell_type": "code",
   "execution_count": 2,
   "id": "dd158a91",
   "metadata": {},
   "outputs": [],
   "source": [
    "def generate_random_array(low,high,row,col):\n",
    "    return np.random.randint(low=low,high=high,size=(row,col))"
   ]
  },
  {
   "cell_type": "code",
   "execution_count": 14,
   "id": "612daab8",
   "metadata": {},
   "outputs": [
    {
     "data": {
      "text/plain": [
       "array([[5, 6, 4],\n",
       "       [8, 4, 7],\n",
       "       [4, 3, 9]])"
      ]
     },
     "execution_count": 14,
     "metadata": {},
     "output_type": "execute_result"
    }
   ],
   "source": [
    "generate_random_array(2,10,3,3)"
   ]
  },
  {
   "cell_type": "markdown",
   "id": "8f969990",
   "metadata": {},
   "source": [
    "<b>Write a function called random_shuffle that takes a 1D NumPy array as input and returns a new array with its elements shuffled randomly.</b>"
   ]
  },
  {
   "cell_type": "code",
   "execution_count": 15,
   "id": "abc39f00",
   "metadata": {},
   "outputs": [],
   "source": [
    "def random_shuffle(arr):\n",
    "    np.random.shuffle(arr)\n",
    "    return arr"
   ]
  },
  {
   "cell_type": "code",
   "execution_count": 20,
   "id": "57b3a81c",
   "metadata": {
    "scrolled": true
   },
   "outputs": [
    {
     "data": {
      "text/plain": [
       "[1, 4, 2, 3]"
      ]
     },
     "execution_count": 20,
     "metadata": {},
     "output_type": "execute_result"
    }
   ],
   "source": [
    "random_shuffle([1,2,3,4])"
   ]
  },
  {
   "cell_type": "markdown",
   "id": "c5fc96b1",
   "metadata": {},
   "source": [
    "<b>Write a function called random_sample_mean that takes array_size and sample_size as input, generates a random 1D NumPy array of size array_size, and then calculates and returns the mean of a random sample of size sample_size from the array.</b>"
   ]
  },
  {
   "cell_type": "code",
   "execution_count": 59,
   "id": "1189d65a",
   "metadata": {},
   "outputs": [],
   "source": [
    "def random_sample_mean(arr_size,sample_size):\n",
    "    arr = np.random.rand(arr_size)\n",
    "    sample = np.random.choice(arr,size = sample_size,replace=False)\n",
    "    return np.mean(sample)"
   ]
  },
  {
   "cell_type": "code",
   "execution_count": 61,
   "id": "31bd9b8f",
   "metadata": {},
   "outputs": [
    {
     "data": {
      "text/plain": [
       "0.3020381659755807"
      ]
     },
     "execution_count": 61,
     "metadata": {},
     "output_type": "execute_result"
    }
   ],
   "source": [
    "random_sample_mean(100,5)"
   ]
  },
  {
   "cell_type": "markdown",
   "id": "8a51eac7",
   "metadata": {},
   "source": [
    "<b>Write a function called generate_random_matrix that takes size as input and returns a random symmetric matrix of size (size, size).</b>"
   ]
  },
  {
   "cell_type": "code",
   "execution_count": 62,
   "id": "2daa4c36",
   "metadata": {},
   "outputs": [],
   "source": [
    "def generate_random_matrix(size):\n",
    "    arr = np.random.rand(size,size)\n",
    "    return np.matrix(arr)"
   ]
  },
  {
   "cell_type": "code",
   "execution_count": 65,
   "id": "f8b56776",
   "metadata": {},
   "outputs": [
    {
     "data": {
      "text/plain": [
       "matrix([[0.43235885, 0.28656859, 0.68279892, 0.44021633],\n",
       "        [0.42461651, 0.47378868, 0.17524966, 0.75676865],\n",
       "        [0.69381333, 0.97663875, 0.51841369, 0.44126795],\n",
       "        [0.83805788, 0.14097112, 0.49724033, 0.60350115]])"
      ]
     },
     "execution_count": 65,
     "metadata": {},
     "output_type": "execute_result"
    }
   ],
   "source": [
    "generate_random_matrix(4)"
   ]
  },
  {
   "cell_type": "markdown",
   "id": "eee45f6b",
   "metadata": {},
   "source": [
    "<b>Write a function called simulate_dice_rolls that takes num_rolls as input and simulates rolling a fair six-sided die num_rolls times. Return a NumPy array containing the results.</b>"
   ]
  },
  {
   "cell_type": "code",
   "execution_count": 81,
   "id": "ef74548d",
   "metadata": {},
   "outputs": [],
   "source": [
    "def simulate_dice_rolls(num_rolls):\n",
    "    l1=[]\n",
    "    for i in range(num_rolls):\n",
    "        l1.append(np.random.randint(low=0,high=7))\n",
    "    return l1"
   ]
  },
  {
   "cell_type": "code",
   "execution_count": 88,
   "id": "28236f2e",
   "metadata": {},
   "outputs": [
    {
     "data": {
      "text/plain": [
       "[5, 6, 1, 5, 4, 2, 6, 6, 6, 4]"
      ]
     },
     "execution_count": 88,
     "metadata": {},
     "output_type": "execute_result"
    }
   ],
   "source": [
    "simulate_dice_rolls(10)"
   ]
  },
  {
   "cell_type": "markdown",
   "id": "a07e869b",
   "metadata": {},
   "source": [
    "<b>Write a function called random_choice_with_replacement that takes a 1D NumPy array and num_samples as input and returns a new array containing a random sample with replacement of size num_samples from the input array.</b>"
   ]
  },
  {
   "cell_type": "code",
   "execution_count": 89,
   "id": "31f81f28",
   "metadata": {},
   "outputs": [],
   "source": [
    "def random_choice_with_replacement(arr,num_samples):\n",
    "    return np.random.choice(arr,size=num_samples)\n",
    "    "
   ]
  },
  {
   "cell_type": "code",
   "execution_count": 92,
   "id": "284192ed",
   "metadata": {},
   "outputs": [
    {
     "data": {
      "text/plain": [
       "array([0.03475021, 0.0779602 , 0.31720555, 0.04981761, 0.01196715,\n",
       "       0.01196715])"
      ]
     },
     "execution_count": 92,
     "metadata": {},
     "output_type": "execute_result"
    }
   ],
   "source": [
    "random_choice_with_replacement(np.random.rand(10),6)"
   ]
  },
  {
   "cell_type": "markdown",
   "id": "b6dd00b0",
   "metadata": {},
   "source": [
    "<b>Write a function called generate_correlated_data that takes size, mean, covariance_matrix, and random_seed as input and generates random data with the specified mean and covariance matrix. Use random_seed to ensure reproducibility.</b>"
   ]
  },
  {
   "cell_type": "code",
   "execution_count": 94,
   "id": "968730a8",
   "metadata": {},
   "outputs": [
    {
     "name": "stdout",
     "output_type": "stream",
     "text": [
      "Generated Data:\n",
      "[[ 1.16865045  2.72887797]\n",
      " [ 2.62117105  2.36999679]\n",
      " [ 0.67426127  1.75839786]\n",
      " [ 2.52916684  3.90603269]\n",
      " [ 1.17943582  1.17074257]\n",
      " [ 0.3533951   1.52263923]\n",
      " [-0.43642536  2.98407141]\n",
      " [-0.44323683 -0.17592528]\n",
      " [ 0.68269794  0.50275982]\n",
      " [-0.67808845  1.23494971]]\n"
     ]
    }
   ],
   "source": [
    "import numpy as np\n",
    "\n",
    "def generate_correlated_data(size, mean, covariance_matrix, random_seed=None):\n",
    "    \"\"\"\n",
    "    Generate random data with specified mean and covariance matrix.\n",
    "\n",
    "    Parameters:\n",
    "    - size (int): Number of samples to generate.\n",
    "    - mean (numpy.ndarray): Mean vector.\n",
    "    - covariance_matrix (numpy.ndarray): Covariance matrix.\n",
    "    - random_seed (int or None): Seed for reproducibility. If None, no seed is set.\n",
    "\n",
    "    Returns:\n",
    "    - numpy.ndarray: Generated random data.\n",
    "    \"\"\"\n",
    "    # Set the random seed for reproducibility\n",
    "    if random_seed is not None:\n",
    "        np.random.seed(random_seed)\n",
    "\n",
    "    # Generate correlated data using multivariate normal distribution\n",
    "    generated_data = np.random.multivariate_normal(mean, covariance_matrix, size)\n",
    "\n",
    "    return generated_data\n",
    "\n",
    "# Test case\n",
    "size = 10\n",
    "mean = np.array([1, 2])\n",
    "covariance_matrix = np.array([[1, 0.5], [0.5, 2]])\n",
    "random_seed = 42\n",
    "\n",
    "generated_data = generate_correlated_data(size, mean, covariance_matrix, random_seed)\n",
    "print(\"Generated Data:\")\n",
    "print(generated_data)\n"
   ]
  },
  {
   "cell_type": "code",
   "execution_count": 96,
   "id": "1902b323",
   "metadata": {},
   "outputs": [
    {
     "name": "stdout",
     "output_type": "stream",
     "text": [
      "[[1 2 5 6]\n",
      " [3 4 7 8]]\n"
     ]
    }
   ],
   "source": [
    "array_1 = np.array([[1, 2], [3, 4]]) \n",
    "array_2 = np.array([[5, 6], [7, 8]]) \n",
    "  \n",
    "array_new = np.concatenate((array_1, array_2), axis=1) \n",
    "print(array_new) "
   ]
  },
  {
   "cell_type": "code",
   "execution_count": 101,
   "id": "bb2fbda4",
   "metadata": {},
   "outputs": [],
   "source": [
    "ar = np.arange(16).reshape(4,4)"
   ]
  },
  {
   "cell_type": "code",
   "execution_count": 102,
   "id": "c6eee53b",
   "metadata": {},
   "outputs": [
    {
     "data": {
      "text/plain": [
       "array([[ 0,  1,  2,  3],\n",
       "       [ 4,  5,  6,  7],\n",
       "       [ 8,  9, 10, 11],\n",
       "       [12, 13, 14, 15]])"
      ]
     },
     "execution_count": 102,
     "metadata": {},
     "output_type": "execute_result"
    }
   ],
   "source": [
    "ar"
   ]
  },
  {
   "cell_type": "code",
   "execution_count": 105,
   "id": "530fed54",
   "metadata": {},
   "outputs": [
    {
     "data": {
      "text/plain": [
       "array([2, 7])"
      ]
     },
     "execution_count": 105,
     "metadata": {},
     "output_type": "execute_result"
    }
   ],
   "source": [
    "np.diag(ar,k=2)"
   ]
  },
  {
   "cell_type": "code",
   "execution_count": 107,
   "id": "3da642c4",
   "metadata": {},
   "outputs": [
    {
     "data": {
      "text/plain": [
       "array([[1, 0, 0, 0, 0, 0, 0, 0, 0],\n",
       "       [0, 2, 0, 0, 0, 0, 0, 0, 0],\n",
       "       [0, 0, 3, 0, 0, 0, 0, 0, 0],\n",
       "       [0, 0, 0, 4, 0, 0, 0, 0, 0],\n",
       "       [0, 0, 0, 0, 5, 0, 0, 0, 0],\n",
       "       [0, 0, 0, 0, 0, 6, 0, 0, 0],\n",
       "       [0, 0, 0, 0, 0, 0, 7, 0, 0],\n",
       "       [0, 0, 0, 0, 0, 0, 0, 8, 0],\n",
       "       [0, 0, 0, 0, 0, 0, 0, 0, 9]])"
      ]
     },
     "execution_count": 107,
     "metadata": {},
     "output_type": "execute_result"
    }
   ],
   "source": [
    "np.diagflat([[1,2,3,],[4,5,6],[7,8,9]])"
   ]
  },
  {
   "cell_type": "code",
   "execution_count": 115,
   "id": "a965d85b",
   "metadata": {},
   "outputs": [
    {
     "data": {
      "text/plain": [
       "(3, 3)"
      ]
     },
     "execution_count": 115,
     "metadata": {},
     "output_type": "execute_result"
    }
   ],
   "source": [
    "np.mat([[1,3,4],[3,4,7],[1,2,3]]).shape"
   ]
  },
  {
   "cell_type": "code",
   "execution_count": 116,
   "id": "7de41b19",
   "metadata": {},
   "outputs": [
    {
     "name": "stdout",
     "output_type": "stream",
     "text": [
      "Rank of A: 3\n",
      "\n",
      "Trace of A: 11\n",
      "\n",
      "Determinant of A: -306.0\n",
      "\n",
      "Inverse of A:\n",
      " [[ 0.17647059 -0.00326797 -0.02287582]\n",
      " [ 0.05882353 -0.13071895  0.08496732]\n",
      " [-0.11764706  0.1503268   0.05228758]]\n",
      "\n",
      "Matrix A raised to power 3:\n",
      " [[336 162 228]\n",
      " [406 162 469]\n",
      " [698 702 905]]\n"
     ]
    }
   ],
   "source": [
    "import numpy as np\n",
    " \n",
    "A = np.array([[6, 1, 1],\n",
    "              [4, -2, 5],\n",
    "              [2, 8, 7]])\n",
    " \n",
    "# Rank of a matrix\n",
    "print(\"Rank of A:\", np.linalg.matrix_rank(A))\n",
    " \n",
    "# Trace of matrix A\n",
    "print(\"\\nTrace of A:\", np.trace(A))\n",
    " \n",
    "# Determinant of a matrix\n",
    "print(\"\\nDeterminant of A:\", np.linalg.det(A))\n",
    " \n",
    "# Inverse of matrix A\n",
    "print(\"\\nInverse of A:\\n\", np.linalg.inv(A))\n",
    " \n",
    "print(\"\\nMatrix A raised to power 3:\\n\",\n",
    "           np.linalg.matrix_power(A, 3))"
   ]
  },
  {
   "cell_type": "code",
   "execution_count": null,
   "id": "35b6a8f7",
   "metadata": {},
   "outputs": [],
   "source": []
  },
  {
   "cell_type": "code",
   "execution_count": null,
   "id": "a897d158",
   "metadata": {},
   "outputs": [],
   "source": []
  },
  {
   "cell_type": "code",
   "execution_count": null,
   "id": "9b60d1e6",
   "metadata": {},
   "outputs": [],
   "source": []
  },
  {
   "cell_type": "code",
   "execution_count": null,
   "id": "40b1a422",
   "metadata": {},
   "outputs": [],
   "source": []
  },
  {
   "cell_type": "code",
   "execution_count": null,
   "id": "1b3e4682",
   "metadata": {},
   "outputs": [],
   "source": []
  }
 ],
 "metadata": {
  "kernelspec": {
   "display_name": "Python 3 (ipykernel)",
   "language": "python",
   "name": "python3"
  },
  "language_info": {
   "codemirror_mode": {
    "name": "ipython",
    "version": 3
   },
   "file_extension": ".py",
   "mimetype": "text/x-python",
   "name": "python",
   "nbconvert_exporter": "python",
   "pygments_lexer": "ipython3",
   "version": "3.11.5"
  }
 },
 "nbformat": 4,
 "nbformat_minor": 5
}
