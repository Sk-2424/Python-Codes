{
 "cells": [
  {
   "cell_type": "markdown",
   "id": "753327e0",
   "metadata": {},
   "source": [
    "<b>Write a function called get_diagonal_sum that takes a square 2D NumPy array as input and returns the sum of its main diagonal elements.</b>"
   ]
  },
  {
   "cell_type": "code",
   "execution_count": 8,
   "id": "04b4bbfd",
   "metadata": {},
   "outputs": [
    {
     "name": "stdout",
     "output_type": "stream",
     "text": [
      "Diagonal sum: 15\n"
     ]
    }
   ],
   "source": [
    "import numpy as np\n",
    "\n",
    "def get_diagonal_sum(matrix):\n",
    "    row, col = matrix.shape\n",
    "    sum = 0\n",
    "    for i in range(row):\n",
    "        for j in range(col):\n",
    "            if i==j:\n",
    "                sum = sum + matrix[i][j]\n",
    "    return sum\n",
    "#     pass\n",
    "\n",
    "# Test case\n",
    "matrix1 = np.array([[1, 2, 3],\n",
    "                    [4, 5, 6],\n",
    "                    [7, 8, 9]])\n",
    "\n",
    "print(\"Diagonal sum:\", get_diagonal_sum(matrix1))\n"
   ]
  },
  {
   "cell_type": "markdown",
   "id": "cd7e643f",
   "metadata": {},
   "source": [
    "<b>Write a function called get_even_rows that takes a 2D NumPy array as input and returns a new array containing only the rows with even indices.</b>"
   ]
  },
  {
   "cell_type": "code",
   "execution_count": 19,
   "id": "118c60f4",
   "metadata": {},
   "outputs": [
    {
     "name": "stdout",
     "output_type": "stream",
     "text": [
      "Even rows:\n",
      "[[1 2 3]\n",
      " [7 8 9]]\n"
     ]
    }
   ],
   "source": [
    "import numpy as np\n",
    "\n",
    "def get_even_rows(matrix):\n",
    "    row, col = matrix.shape\n",
    "    all_rows = np.arange(row)\n",
    "    return matrix[[i%2==0 for i in all_rows]]\n",
    "    \n",
    "    \n",
    "\n",
    "# Test case\n",
    "matrix2 = np.array([[1, 2, 3],\n",
    "                    [4, 5, 6],\n",
    "                    [7, 8, 9],\n",
    "                    [10, 11, 12]])\n",
    "\n",
    "print(\"Even rows:\")\n",
    "print(get_even_rows(matrix2))\n"
   ]
  },
  {
   "cell_type": "markdown",
   "id": "03b3a29c",
   "metadata": {},
   "source": [
    "<b>Write a function called get_column_average that takes a 2D NumPy array as input and returns a 1D array containing the average value of each column.</b>"
   ]
  },
  {
   "cell_type": "code",
   "execution_count": 23,
   "id": "96b65ced",
   "metadata": {},
   "outputs": [
    {
     "name": "stdout",
     "output_type": "stream",
     "text": [
      "Column averages: [4. 5. 6.]\n"
     ]
    }
   ],
   "source": [
    "import numpy as np\n",
    "\n",
    "def get_column_average(matrix):\n",
    "    return np.mean(matrix, axis = 0)\n",
    "\n",
    "\n",
    "# Test case\n",
    "matrix3 = np.array([[1, 2, 3],\n",
    "                    [4, 5, 6],\n",
    "                    [7, 8, 9]])\n",
    "\n",
    "print(\"Column averages:\", get_column_average(matrix3))\n"
   ]
  },
  {
   "cell_type": "markdown",
   "id": "1c0fc821",
   "metadata": {},
   "source": [
    "<b>Write a function called get_subarray that takes a 2D NumPy array, start_row, end_row, start_col, and end_col as input, and returns the subarray formed by slicing the original array based on the specified indices.<?b>"
   ]
  },
  {
   "cell_type": "code",
   "execution_count": 44,
   "id": "f74af33a",
   "metadata": {},
   "outputs": [],
   "source": [
    "def sub_array(start_row,end_row,start_col,end_col,mat):\n",
    "    return mat[start_row:end_row+1,start_col:end_col+1]"
   ]
  },
  {
   "cell_type": "code",
   "execution_count": 45,
   "id": "dc99e043",
   "metadata": {},
   "outputs": [
    {
     "data": {
      "text/plain": [
       "array([[4, 5],\n",
       "       [7, 8]])"
      ]
     },
     "execution_count": 45,
     "metadata": {},
     "output_type": "execute_result"
    }
   ],
   "source": [
    "sub_array(1,2,1,2,np.arange(9).reshape(3,3))"
   ]
  },
  {
   "cell_type": "markdown",
   "id": "e26301dc",
   "metadata": {},
   "source": [
    "<b>Write a function called get_last_column that takes a 2D NumPy array as input and returns a 1D array containing the last column of the input array.</b>"
   ]
  },
  {
   "cell_type": "code",
   "execution_count": 46,
   "id": "8f62168f",
   "metadata": {},
   "outputs": [],
   "source": [
    "def get_last_column(mat):\n",
    "    return mat[-1]"
   ]
  },
  {
   "cell_type": "code",
   "execution_count": 47,
   "id": "0771c8c6",
   "metadata": {},
   "outputs": [
    {
     "data": {
      "text/plain": [
       "array([6, 7, 8])"
      ]
     },
     "execution_count": 47,
     "metadata": {},
     "output_type": "execute_result"
    }
   ],
   "source": [
    "get_last_column(mat)"
   ]
  },
  {
   "cell_type": "markdown",
   "id": "876be4ec",
   "metadata": {},
   "source": [
    "<b>Write a function called get_even_rows_columns that takes a 2D NumPy array as input and returns a new array containing only the even-indexed rows and columns.</b>"
   ]
  },
  {
   "cell_type": "code",
   "execution_count": 48,
   "id": "300067c4",
   "metadata": {},
   "outputs": [],
   "source": [
    "def get_even_rows(mat):\n",
    "    return mat[::2]"
   ]
  },
  {
   "cell_type": "code",
   "execution_count": 49,
   "id": "7648a029",
   "metadata": {},
   "outputs": [
    {
     "data": {
      "text/plain": [
       "array([[0, 1, 2],\n",
       "       [6, 7, 8]])"
      ]
     },
     "execution_count": 49,
     "metadata": {},
     "output_type": "execute_result"
    }
   ],
   "source": [
    "get_even_rows(mat)"
   ]
  },
  {
   "cell_type": "markdown",
   "id": "5c941dcf",
   "metadata": {},
   "source": [
    "<b>Write a function called get_diagonal_elements that takes a square 2D NumPy array as input and returns a 1D array containing its diagonal elements.</b>"
   ]
  },
  {
   "cell_type": "code",
   "execution_count": 50,
   "id": "e60241cb",
   "metadata": {},
   "outputs": [],
   "source": [
    "def get_diagonal_element(mat):\n",
    "    return np.diag(mat)"
   ]
  },
  {
   "cell_type": "code",
   "execution_count": 51,
   "id": "772f6692",
   "metadata": {},
   "outputs": [
    {
     "data": {
      "text/plain": [
       "array([0, 4, 8])"
      ]
     },
     "execution_count": 51,
     "metadata": {},
     "output_type": "execute_result"
    }
   ],
   "source": [
    "get_diagonal_element(mat)"
   ]
  },
  {
   "cell_type": "markdown",
   "id": "0a812f08",
   "metadata": {},
   "source": [
    "<b>Write a function called get_middle_square that takes a 2D NumPy array as input and returns the square subarray formed by slicing out the middle portion of the array.</b>"
   ]
  },
  {
   "cell_type": "code",
   "execution_count": 65,
   "id": "6ad0d51e",
   "metadata": {},
   "outputs": [],
   "source": [
    "def get_middle_square(mat):\n",
    "    row,col = mat.shape\n",
    "    return mat[1:row-1,1:col-1]"
   ]
  },
  {
   "cell_type": "code",
   "execution_count": 61,
   "id": "c254bd21",
   "metadata": {},
   "outputs": [
    {
     "data": {
      "text/plain": [
       "array([[4]])"
      ]
     },
     "execution_count": 61,
     "metadata": {},
     "output_type": "execute_result"
    }
   ],
   "source": [
    "get_middle_square(mat)"
   ]
  },
  {
   "cell_type": "code",
   "execution_count": 68,
   "id": "d600498b",
   "metadata": {},
   "outputs": [
    {
     "data": {
      "text/plain": [
       "array([[ 6,  7,  8],\n",
       "       [11, 12, 13],\n",
       "       [16, 17, 18]])"
      ]
     },
     "execution_count": 68,
     "metadata": {},
     "output_type": "execute_result"
    }
   ],
   "source": [
    "get_middle_square(np.arange(25).reshape(5,5))"
   ]
  },
  {
   "cell_type": "code",
   "execution_count": 70,
   "id": "8738c6d7",
   "metadata": {},
   "outputs": [
    {
     "data": {
      "text/plain": [
       "array([[ 0,  1,  2,  3,  4],\n",
       "       [ 5,  6,  7,  8,  9],\n",
       "       [10, 11, 12, 13, 14],\n",
       "       [15, 16, 17, 18, 19],\n",
       "       [20, 21, 22, 23, 24]])"
      ]
     },
     "execution_count": 70,
     "metadata": {},
     "output_type": "execute_result"
    }
   ],
   "source": [
    "np.arange(25).reshape(5,5)"
   ]
  },
  {
   "cell_type": "markdown",
   "id": "0e42c5df",
   "metadata": {},
   "source": [
    "<b>Write a function called reverse_rows that takes a 2D NumPy array as input and returns a new array with the rows reversed.</b>"
   ]
  },
  {
   "cell_type": "code",
   "execution_count": 77,
   "id": "f3713f69",
   "metadata": {},
   "outputs": [],
   "source": [
    "def reverse_rows(mat):\n",
    "    mat1 = mat[::-1]\n",
    "    return mat1"
   ]
  },
  {
   "cell_type": "code",
   "execution_count": 78,
   "id": "8e65853a",
   "metadata": {},
   "outputs": [
    {
     "data": {
      "text/plain": [
       "array([[6, 7, 8],\n",
       "       [3, 4, 5],\n",
       "       [0, 1, 2]])"
      ]
     },
     "execution_count": 78,
     "metadata": {},
     "output_type": "execute_result"
    }
   ],
   "source": [
    "reverse_rows(mat)"
   ]
  },
  {
   "cell_type": "code",
   "execution_count": 104,
   "id": "a5d3725b",
   "metadata": {},
   "outputs": [
    {
     "data": {
      "text/plain": [
       "0.7951935655656966"
      ]
     },
     "execution_count": 104,
     "metadata": {},
     "output_type": "execute_result"
    }
   ],
   "source": [
    "import random\n",
    "random.seed(5)\n",
    "random.random()\n",
    "random.random()\n",
    "random.random()"
   ]
  },
  {
   "cell_type": "code",
   "execution_count": 106,
   "id": "076fe572",
   "metadata": {},
   "outputs": [],
   "source": [
    "np.random."
   ]
  },
  {
   "cell_type": "code",
   "execution_count": 199,
   "id": "da8d7710",
   "metadata": {},
   "outputs": [],
   "source": [
    "l1 = [2,3,4,53,5,67,3,2,3]\n"
   ]
  },
  {
   "cell_type": "code",
   "execution_count": 175,
   "id": "f417685c",
   "metadata": {},
   "outputs": [
    {
     "data": {
      "text/plain": [
       "67"
      ]
     },
     "execution_count": 175,
     "metadata": {},
     "output_type": "execute_result"
    }
   ],
   "source": [
    "random.seed(7)\n",
    "random.choice(l1)"
   ]
  },
  {
   "cell_type": "code",
   "execution_count": 220,
   "id": "cdaa7927",
   "metadata": {},
   "outputs": [
    {
     "data": {
      "text/plain": [
       "[2, 5, 3, 67, 3, 3, 4, 53, 2]"
      ]
     },
     "execution_count": 220,
     "metadata": {},
     "output_type": "execute_result"
    }
   ],
   "source": [
    "random.seed(7)\n",
    "random.shuffle(l1)\n",
    "l1"
   ]
  },
  {
   "cell_type": "code",
   "execution_count": 223,
   "id": "52b808d6",
   "metadata": {},
   "outputs": [
    {
     "data": {
      "text/plain": [
       "21"
      ]
     },
     "execution_count": 223,
     "metadata": {},
     "output_type": "execute_result"
    }
   ],
   "source": [
    "random.randint(10,30)"
   ]
  },
  {
   "cell_type": "code",
   "execution_count": 259,
   "id": "c0c7431b",
   "metadata": {},
   "outputs": [
    {
     "data": {
      "text/plain": [
       "array([[0.74341313, 0.20103766, 0.90467534],\n",
       "       [0.47356788, 0.44165318, 0.1360797 ]])"
      ]
     },
     "execution_count": 259,
     "metadata": {},
     "output_type": "execute_result"
    }
   ],
   "source": [
    "# np.random.seed(9)\n",
    "np.random.rand(2,3)"
   ]
  },
  {
   "cell_type": "code",
   "execution_count": 302,
   "id": "a433e1ef",
   "metadata": {},
   "outputs": [
    {
     "data": {
      "text/plain": [
       "array([[ 9,  3,  9, 15, 16],\n",
       "       [12,  0, 10,  0,  5],\n",
       "       [ 6,  2, 19, 14, 12],\n",
       "       [13,  2, 19, 13,  2],\n",
       "       [10,  1,  1, 17,  6]])"
      ]
     },
     "execution_count": 302,
     "metadata": {},
     "output_type": "execute_result"
    }
   ],
   "source": [
    "np.random.randint(20,size=(5,5))"
   ]
  },
  {
   "cell_type": "code",
   "execution_count": 281,
   "id": "952887c5",
   "metadata": {},
   "outputs": [
    {
     "data": {
      "text/plain": [
       "0.24066300012702502"
      ]
     },
     "execution_count": 281,
     "metadata": {},
     "output_type": "execute_result"
    }
   ],
   "source": [
    "random.random()"
   ]
  },
  {
   "cell_type": "code",
   "execution_count": 304,
   "id": "12e47580",
   "metadata": {},
   "outputs": [
    {
     "data": {
      "text/plain": [
       "array([0.42436105, 0.39361013, 0.90032563, 0.03580599, 0.45479391])"
      ]
     },
     "execution_count": 304,
     "metadata": {},
     "output_type": "execute_result"
    }
   ],
   "source": [
    "np.random.rand(5)"
   ]
  },
  {
   "cell_type": "code",
   "execution_count": 310,
   "id": "a34236d7",
   "metadata": {},
   "outputs": [
    {
     "data": {
      "text/plain": [
       "array([[-0.12237645, -0.58083867, -0.73889782],\n",
       "       [ 2.48402538,  0.66907458,  1.36927682]])"
      ]
     },
     "execution_count": 310,
     "metadata": {},
     "output_type": "execute_result"
    }
   ],
   "source": [
    "np.random.randn(2,3)"
   ]
  }
 ],
 "metadata": {
  "kernelspec": {
   "display_name": "Python 3 (ipykernel)",
   "language": "python",
   "name": "python3"
  },
  "language_info": {
   "codemirror_mode": {
    "name": "ipython",
    "version": 3
   },
   "file_extension": ".py",
   "mimetype": "text/x-python",
   "name": "python",
   "nbconvert_exporter": "python",
   "pygments_lexer": "ipython3",
   "version": "3.11.5"
  }
 },
 "nbformat": 4,
 "nbformat_minor": 5
}
