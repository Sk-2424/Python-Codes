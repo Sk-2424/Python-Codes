{
 "cells": [
  {
   "cell_type": "markdown",
   "id": "08616eca",
   "metadata": {},
   "source": [
    "<b>Word Count:\n",
    "Write a program that reads a text file and counts the number of words in it.</b>"
   ]
  },
  {
   "cell_type": "code",
   "execution_count": 23,
   "id": "be597e2b",
   "metadata": {},
   "outputs": [],
   "source": [
    "file = open('demo.txt')"
   ]
  },
  {
   "cell_type": "code",
   "execution_count": 24,
   "id": "6f54d611",
   "metadata": {},
   "outputs": [],
   "source": [
    "doc = file.read()"
   ]
  },
  {
   "cell_type": "code",
   "execution_count": 25,
   "id": "cf741602",
   "metadata": {},
   "outputs": [
    {
     "name": "stdout",
     "output_type": "stream",
     "text": [
      "9\n"
     ]
    }
   ],
   "source": [
    "print(len(doc.split(' ')))"
   ]
  },
  {
   "cell_type": "code",
   "execution_count": 26,
   "id": "9eb71e9f",
   "metadata": {},
   "outputs": [],
   "source": [
    "file.close()"
   ]
  },
  {
   "cell_type": "markdown",
   "id": "d5c58100",
   "metadata": {},
   "source": [
    "<b>Line Count:\n",
    "Create a script that reads a text file and counts the number of lines in it.</b>"
   ]
  },
  {
   "cell_type": "code",
   "execution_count": 34,
   "id": "19a5ea17",
   "metadata": {},
   "outputs": [],
   "source": [
    "file1 = open('demo.txt')"
   ]
  },
  {
   "cell_type": "code",
   "execution_count": 35,
   "id": "031c6123",
   "metadata": {},
   "outputs": [],
   "source": [
    "doc1 = file1.readlines()"
   ]
  },
  {
   "cell_type": "code",
   "execution_count": 36,
   "id": "737a0819",
   "metadata": {},
   "outputs": [
    {
     "data": {
      "text/plain": [
       "[\"Hello world! I'm sumit kumar.\\n\", \"I'm a data scientist.\"]"
      ]
     },
     "execution_count": 36,
     "metadata": {},
     "output_type": "execute_result"
    }
   ],
   "source": [
    "doc1"
   ]
  },
  {
   "cell_type": "code",
   "execution_count": 37,
   "id": "431d646f",
   "metadata": {},
   "outputs": [
    {
     "name": "stdout",
     "output_type": "stream",
     "text": [
      "2\n"
     ]
    }
   ],
   "source": [
    "print(len(doc1))"
   ]
  },
  {
   "cell_type": "code",
   "execution_count": 38,
   "id": "05bb5e46",
   "metadata": {},
   "outputs": [],
   "source": [
    "file1.close()"
   ]
  },
  {
   "cell_type": "markdown",
   "id": "3bcdbd51",
   "metadata": {},
   "source": [
    "<b>File Copy:\n",
    "Implement a program that copies the contents of one text file to another.</b>"
   ]
  },
  {
   "cell_type": "code",
   "execution_count": 39,
   "id": "b5d55ef3",
   "metadata": {},
   "outputs": [],
   "source": [
    "file2 = open('demo.txt')"
   ]
  },
  {
   "cell_type": "code",
   "execution_count": 40,
   "id": "72a7807f",
   "metadata": {},
   "outputs": [],
   "source": [
    "doc2 = file2.read()"
   ]
  },
  {
   "cell_type": "code",
   "execution_count": 42,
   "id": "93cc4241",
   "metadata": {},
   "outputs": [],
   "source": [
    "file3 = open('new_demo.txt',mode='w')"
   ]
  },
  {
   "cell_type": "code",
   "execution_count": 43,
   "id": "674d8228",
   "metadata": {},
   "outputs": [
    {
     "data": {
      "text/plain": [
       "51"
      ]
     },
     "execution_count": 43,
     "metadata": {},
     "output_type": "execute_result"
    }
   ],
   "source": [
    "file3.write(doc2)"
   ]
  },
  {
   "cell_type": "code",
   "execution_count": 45,
   "id": "d1bc1652",
   "metadata": {},
   "outputs": [],
   "source": [
    "file3.close()"
   ]
  },
  {
   "cell_type": "code",
   "execution_count": 46,
   "id": "12c6ecd7",
   "metadata": {},
   "outputs": [],
   "source": [
    "file2.close()"
   ]
  },
  {
   "cell_type": "markdown",
   "id": "d0c1792f",
   "metadata": {},
   "source": [
    "<b>CSV Reader:\n",
    "Write a script that reads data from a CSV file and prints it.</b>"
   ]
  },
  {
   "cell_type": "code",
   "execution_count": 54,
   "id": "2cb37002",
   "metadata": {},
   "outputs": [],
   "source": [
    "import csv"
   ]
  },
  {
   "cell_type": "code",
   "execution_count": 85,
   "id": "c25a3244",
   "metadata": {},
   "outputs": [],
   "source": [
    "file4 = open('demo.csv')"
   ]
  },
  {
   "cell_type": "code",
   "execution_count": 63,
   "id": "32ad5e04",
   "metadata": {},
   "outputs": [],
   "source": [
    "doc3 = csv.reader(file4)"
   ]
  },
  {
   "cell_type": "code",
   "execution_count": 64,
   "id": "c3d4b31d",
   "metadata": {},
   "outputs": [
    {
     "name": "stdout",
     "output_type": "stream",
     "text": [
      "['Name', 'class', 'marks']\n",
      "['sumit', '12', '95']\n",
      "['swati', '11', '94']\n"
     ]
    }
   ],
   "source": [
    "for i in doc3:\n",
    "    print(i)"
   ]
  },
  {
   "cell_type": "code",
   "execution_count": 65,
   "id": "9e1445c4",
   "metadata": {},
   "outputs": [],
   "source": [
    "file4.close()"
   ]
  },
  {
   "cell_type": "code",
   "execution_count": 83,
   "id": "f2388756",
   "metadata": {},
   "outputs": [
    {
     "name": "stdout",
     "output_type": "stream",
     "text": [
      "Name, class, marks\n",
      "sumit, 12, 95\n",
      "swati, 11, 94\n"
     ]
    }
   ],
   "source": [
    "import csv\n",
    "\n",
    "with open('demo.csv', newline='') as csvfile:\n",
    "    reader = csv.reader(csvfile, delimiter=',', quotechar='\"')\n",
    "    for row in reader:\n",
    "        print(', '.join(row))\n"
   ]
  },
  {
   "cell_type": "code",
   "execution_count": 86,
   "id": "38524cc4",
   "metadata": {},
   "outputs": [],
   "source": [
    "reader1 = csv.DictReader(file4)"
   ]
  },
  {
   "cell_type": "code",
   "execution_count": 88,
   "id": "5247eb1c",
   "metadata": {},
   "outputs": [
    {
     "name": "stdout",
     "output_type": "stream",
     "text": [
      "{'Name': 'sumit', 'class': '12', 'marks': '95'}\n",
      "{'Name': 'swati', 'class': '11', 'marks': '94'}\n"
     ]
    }
   ],
   "source": [
    "for row in reader1:\n",
    "    print(row)"
   ]
  },
  {
   "cell_type": "code",
   "execution_count": 89,
   "id": "8d005b40",
   "metadata": {},
   "outputs": [],
   "source": [
    "file4.close()"
   ]
  },
  {
   "cell_type": "markdown",
   "id": "b17a9bea",
   "metadata": {},
   "source": [
    "<b>CSV Reader:\n",
    "Write a script that write data from a CSV file to a new csv file and prints it.</b>"
   ]
  },
  {
   "cell_type": "code",
   "execution_count": 100,
   "id": "d7a44001",
   "metadata": {},
   "outputs": [],
   "source": [
    "file5 = open('demo.csv')"
   ]
  },
  {
   "cell_type": "code",
   "execution_count": 101,
   "id": "7956ace1",
   "metadata": {},
   "outputs": [],
   "source": [
    "file6 = open('new_demo.csv','w',newline='')"
   ]
  },
  {
   "cell_type": "code",
   "execution_count": 102,
   "id": "c87968ea",
   "metadata": {},
   "outputs": [],
   "source": [
    "csv_reader = csv.reader(file5)"
   ]
  },
  {
   "cell_type": "code",
   "execution_count": 103,
   "id": "7375738b",
   "metadata": {},
   "outputs": [],
   "source": [
    "csv_writer = csv.writer(file6)"
   ]
  },
  {
   "cell_type": "code",
   "execution_count": 104,
   "id": "b5164475",
   "metadata": {},
   "outputs": [],
   "source": [
    "for row in csv_reader:\n",
    "    csv_writer.writerow(row)"
   ]
  },
  {
   "cell_type": "code",
   "execution_count": 105,
   "id": "edb497d1",
   "metadata": {},
   "outputs": [],
   "source": [
    "file6.close()"
   ]
  },
  {
   "cell_type": "code",
   "execution_count": 106,
   "id": "d38b9865",
   "metadata": {},
   "outputs": [],
   "source": [
    "file5.close()"
   ]
  },
  {
   "cell_type": "markdown",
   "id": "a7f6377d",
   "metadata": {},
   "source": [
    "<b>File Encryption:\n",
    "Create a program that encrypts the contents of a text file and writes the encrypted data to a new file.</b>"
   ]
  },
  {
   "cell_type": "code",
   "execution_count": 124,
   "id": "ff7a90c6",
   "metadata": {},
   "outputs": [],
   "source": [
    "from cryptography.fernet import Fernet\n",
    "\n",
    "def generate_key():\n",
    "    return Fernet.generate_key()\n",
    "\n",
    "def encrypt_text(text, key):\n",
    "    cipher_suite = Fernet(key)\n",
    "    encrypted_text = cipher_suite.encrypt(text.encode())\n",
    "    return encrypted_text\n",
    "\n",
    "def decrypt_text(encrypted_text, key):\n",
    "    cipher_suite = Fernet(key)\n",
    "    decrypted_text = cipher_suite.decrypt(encrypted_text).decode()\n",
    "    return decrypted_text"
   ]
  },
  {
   "cell_type": "code",
   "execution_count": 108,
   "id": "b8b9ba2b",
   "metadata": {},
   "outputs": [],
   "source": [
    "def data_for_encryption(path):\n",
    "    data = open(path)\n",
    "    return data.read()"
   ]
  },
  {
   "cell_type": "code",
   "execution_count": 122,
   "id": "b66e11e8",
   "metadata": {},
   "outputs": [],
   "source": [
    "def write_encryt_data(data):\n",
    "    new_data = open('encrypted_data.txt','wb')\n",
    "    new_data.write(data)\n",
    "    new_data.close()"
   ]
  },
  {
   "cell_type": "code",
   "execution_count": 116,
   "id": "07007190",
   "metadata": {},
   "outputs": [],
   "source": [
    "to_encrpyt_data = data_for_encryption('demo.txt')"
   ]
  },
  {
   "cell_type": "code",
   "execution_count": 117,
   "id": "dd9d4e46",
   "metadata": {},
   "outputs": [],
   "source": [
    "key = generate_key()"
   ]
  },
  {
   "cell_type": "code",
   "execution_count": 118,
   "id": "014bfd67",
   "metadata": {},
   "outputs": [],
   "source": [
    "encrypted_data = encrypt_text(to_encrpyt_data,key)"
   ]
  },
  {
   "cell_type": "code",
   "execution_count": 123,
   "id": "00bc2c80",
   "metadata": {},
   "outputs": [],
   "source": [
    "write_encryt_data(encrypted_data)"
   ]
  },
  {
   "cell_type": "code",
   "execution_count": 125,
   "id": "b0442cbd",
   "metadata": {},
   "outputs": [],
   "source": [
    "to_decr_Data = open('encrypted_data.txt','rb')"
   ]
  },
  {
   "cell_type": "code",
   "execution_count": 128,
   "id": "94693351",
   "metadata": {},
   "outputs": [
    {
     "data": {
      "text/plain": [
       "\"Hello world! I'm sumit kumar.\\nI'm a data scientist.\""
      ]
     },
     "execution_count": 128,
     "metadata": {},
     "output_type": "execute_result"
    }
   ],
   "source": [
    "decrypt_text(to_decr_Data.read(),key)"
   ]
  },
  {
   "cell_type": "markdown",
   "id": "53c58484",
   "metadata": {},
   "source": [
    "<b>File Append:\n",
    "Write a script that appends new content to an existing text file.</b>"
   ]
  },
  {
   "cell_type": "code",
   "execution_count": 134,
   "id": "777b7ce0",
   "metadata": {},
   "outputs": [],
   "source": [
    "file7 = open('demo.txt','a')"
   ]
  },
  {
   "cell_type": "code",
   "execution_count": 135,
   "id": "5b558634",
   "metadata": {},
   "outputs": [
    {
     "data": {
      "text/plain": [
       "27"
      ]
     },
     "execution_count": 135,
     "metadata": {},
     "output_type": "execute_result"
    }
   ],
   "source": [
    "file7.write('\\nI work in Affine Analytics')"
   ]
  },
  {
   "cell_type": "code",
   "execution_count": 136,
   "id": "27bc4841",
   "metadata": {},
   "outputs": [],
   "source": [
    "file7.close()"
   ]
  },
  {
   "cell_type": "markdown",
   "id": "5566ac9a",
   "metadata": {},
   "source": [
    "<b>File Sorting:\n",
    "Implement a program that reads a text file containing names and sorts them alphabetically, then writes the sorted names to a new file.</b>"
   ]
  },
  {
   "cell_type": "code",
   "execution_count": 176,
   "id": "8d06879f",
   "metadata": {},
   "outputs": [],
   "source": [
    "file8 = open('demo_append.txt')"
   ]
  },
  {
   "cell_type": "code",
   "execution_count": 177,
   "id": "98b89e5d",
   "metadata": {},
   "outputs": [],
   "source": [
    "to_sort = file8.read()"
   ]
  },
  {
   "cell_type": "code",
   "execution_count": 178,
   "id": "bad99e24",
   "metadata": {},
   "outputs": [],
   "source": [
    "to_sort = to_sort.split('\\n')"
   ]
  },
  {
   "cell_type": "code",
   "execution_count": 179,
   "id": "2bceff6f",
   "metadata": {},
   "outputs": [],
   "source": [
    "to_sort.sort()"
   ]
  },
  {
   "cell_type": "code",
   "execution_count": 186,
   "id": "a3b950df",
   "metadata": {},
   "outputs": [
    {
     "name": "stdout",
     "output_type": "stream",
     "text": [
      "Babita\n",
      "anil\n",
      "ramesh\n",
      "sumit\n",
      "\n"
     ]
    }
   ],
   "source": [
    "st = ''\n",
    "for i in to_sort:\n",
    "    st =  st + i + '\\n' \n",
    "print(st)"
   ]
  },
  {
   "cell_type": "code",
   "execution_count": 187,
   "id": "c9db8022",
   "metadata": {},
   "outputs": [],
   "source": [
    "file9 = open('new_file.txt','w')"
   ]
  },
  {
   "cell_type": "code",
   "execution_count": 188,
   "id": "cb4e4a04",
   "metadata": {},
   "outputs": [
    {
     "data": {
      "text/plain": [
       "25"
      ]
     },
     "execution_count": 188,
     "metadata": {},
     "output_type": "execute_result"
    }
   ],
   "source": [
    "file9.write(st)"
   ]
  },
  {
   "cell_type": "code",
   "execution_count": 189,
   "id": "c2572215",
   "metadata": {},
   "outputs": [],
   "source": [
    "file9.close()"
   ]
  },
  {
   "cell_type": "markdown",
   "id": "924c8e67",
   "metadata": {},
   "source": [
    "<b>File Search:\n",
    "Create a script that searches for a specific word or phrase in a text file and prints the line numbers where it occurs.</b>"
   ]
  },
  {
   "cell_type": "code",
   "execution_count": 195,
   "id": "48e2b270",
   "metadata": {},
   "outputs": [],
   "source": [
    "def print_line_number(path,keyword):\n",
    "    file_data = open(path,newline='')\n",
    "    linecounter = 0\n",
    "    for i in file_data:\n",
    "        if keyword in i:\n",
    "            return linecounter\n",
    "        linecounter +=1\n",
    "    else:\n",
    "        return 'Keyword is not in data'"
   ]
  },
  {
   "cell_type": "code",
   "execution_count": 202,
   "id": "477e9683",
   "metadata": {},
   "outputs": [
    {
     "data": {
      "text/plain": [
       "1"
      ]
     },
     "execution_count": 202,
     "metadata": {},
     "output_type": "execute_result"
    }
   ],
   "source": [
    "print_line_number('demo.txt',\"data scientist\")"
   ]
  },
  {
   "cell_type": "markdown",
   "id": "3c0f2754",
   "metadata": {},
   "source": [
    "<b>File Compression:\n",
    "Implement a program that compresses the contents of a text file and writes the compressed data to a new file.</b>"
   ]
  },
  {
   "cell_type": "code",
   "execution_count": 203,
   "id": "db7c0d93",
   "metadata": {},
   "outputs": [
    {
     "name": "stdout",
     "output_type": "stream",
     "text": [
      "File compressed successfully. Compressed data written to 'output_compressed.gz'.\n"
     ]
    }
   ],
   "source": [
    "import gzip\n",
    "\n",
    "def compress_file(input_file, output_file):\n",
    "    try:\n",
    "        with open(input_file, 'rb') as file:\n",
    "            content = file.read()\n",
    "\n",
    "        with gzip.open(output_file, 'wb') as compressed_file:\n",
    "            compressed_file.write(content)\n",
    "\n",
    "        print(f\"File compressed successfully. Compressed data written to '{output_file}'.\")\n",
    "    except FileNotFoundError:\n",
    "        print(f\"File not found: {input_file}\")\n",
    "    except Exception as e:\n",
    "        print(f\"An error occurred: {e}\")\n",
    "\n",
    "# Example: Replace 'input_file.txt' and 'output_compressed.gz' with your file paths\n",
    "input_file_path = 'demo.txt'\n",
    "output_file_path = 'output_compressed.gz'\n",
    "compress_file(input_file_path, output_file_path)\n"
   ]
  },
  {
   "cell_type": "markdown",
   "id": "72fb31f8",
   "metadata": {},
   "source": [
    "<b>JSON File Handling:\n",
    "Write a script that reads data from a JSON file, performs some operations, and then writes the modified data back to the file.</b>"
   ]
  },
  {
   "cell_type": "code",
   "execution_count": 224,
   "id": "35a00179",
   "metadata": {},
   "outputs": [],
   "source": [
    "import json"
   ]
  },
  {
   "cell_type": "code",
   "execution_count": 225,
   "id": "9446472a",
   "metadata": {},
   "outputs": [],
   "source": [
    "json_file = open('json_data.json')"
   ]
  },
  {
   "cell_type": "code",
   "execution_count": 226,
   "id": "cb590637",
   "metadata": {},
   "outputs": [],
   "source": [
    "json_data = json.load(json_file)"
   ]
  },
  {
   "cell_type": "code",
   "execution_count": 233,
   "id": "76148ce3",
   "metadata": {},
   "outputs": [],
   "source": [
    "y =    [ {\n",
    "        \"name\": \"Afzal Ghaffar\",\n",
    "        \"language\": \"Sindhi\",\n",
    "        \"id\": \"ENTOCR13RSCLZ6KU\",\n",
    "        \"bio\": \"Aliquam sollicitudin ante ligula, eget malesuada nibh efficitur et. Pellentesque massa sem, scelerisque sit amet odio id, cursus tempor urna. Etiam congue dignissim volutpat. Vestibulum pharetra libero et velit gravida euismod.\",\n",
    "        \"version\": 1.88\n",
    "    }]"
   ]
  },
  {
   "cell_type": "code",
   "execution_count": 235,
   "id": "ecdd7091",
   "metadata": {},
   "outputs": [],
   "source": [
    "json_data.append(y)"
   ]
  },
  {
   "cell_type": "code",
   "execution_count": 228,
   "id": "4cfc7312",
   "metadata": {},
   "outputs": [],
   "source": [
    "json_file1 = open('json_data.json','a')"
   ]
  },
  {
   "cell_type": "code",
   "execution_count": null,
   "id": "af7bf87c",
   "metadata": {},
   "outputs": [],
   "source": [
    "import json\n",
    "\n",
    "def read_and_modify_json(file_path, new_item):\n",
    "    try:\n",
    "        # Read data from the JSON file\n",
    "        with open(file_path, 'r') as json_file:\n",
    "            data = json.load(json_file)\n",
    "\n",
    "        # Perform operations on the data (add a new item to a list)\n",
    "        data['items'].append(new_item)\n",
    "\n",
    "        # Write the modified data back to the JSON file\n",
    "        with open(file_path, 'w') as json_file:\n",
    "            json.dump(data, json_file, indent=2)\n",
    "\n",
    "        print(f\"Data modified and written back to '{file_path}' successfully.\")\n",
    "    except FileNotFoundError:\n",
    "        print(f\"File not found: {file_path}\")\n",
    "    except json.JSONDecodeError as e:\n",
    "        print(f\"Error decoding JSON: {e}\")\n",
    "    except Exception as e:\n",
    "        print(f\"An error occurred: {e}\")\n",
    "\n",
    "# Example: Replace 'your_data.json' with the path to your JSON file\n",
    "json_file_path = 'your_data.json'\n",
    "\n",
    "# Example new item to add to the JSON data\n",
    "new_item_to_add = {'name': 'New Item', 'quantity': 3}\n",
    "\n",
    "# Call the function with the JSON file path and the new item\n",
    "read_and_modify_json(json_file_path, new_item_to_add)\n"
   ]
  },
  {
   "cell_type": "code",
   "execution_count": null,
   "id": "987a76e7",
   "metadata": {},
   "outputs": [],
   "source": []
  }
 ],
 "metadata": {
  "kernelspec": {
   "display_name": "Python 3 (ipykernel)",
   "language": "python",
   "name": "python3"
  },
  "language_info": {
   "codemirror_mode": {
    "name": "ipython",
    "version": 3
   },
   "file_extension": ".py",
   "mimetype": "text/x-python",
   "name": "python",
   "nbconvert_exporter": "python",
   "pygments_lexer": "ipython3",
   "version": "3.11.5"
  }
 },
 "nbformat": 4,
 "nbformat_minor": 5
}
