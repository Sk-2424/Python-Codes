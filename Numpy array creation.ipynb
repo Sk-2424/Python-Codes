{
 "cells": [
  {
   "cell_type": "code",
   "execution_count": 1,
   "id": "268a28da",
   "metadata": {},
   "outputs": [],
   "source": [
    "import numpy as np"
   ]
  },
  {
   "cell_type": "code",
   "execution_count": 35,
   "id": "1abaa64d",
   "metadata": {},
   "outputs": [
    {
     "data": {
      "text/plain": [
       "array(12., dtype=float32)"
      ]
     },
     "execution_count": 35,
     "metadata": {},
     "output_type": "execute_result"
    }
   ],
   "source": [
    "np.array(12,dtype='f')"
   ]
  },
  {
   "cell_type": "code",
   "execution_count": 8,
   "id": "26ffe95a",
   "metadata": {},
   "outputs": [
    {
     "data": {
      "text/plain": [
       "dtype('int32')"
      ]
     },
     "execution_count": 8,
     "metadata": {},
     "output_type": "execute_result"
    }
   ],
   "source": [
    "np.asarray(12).dtype"
   ]
  },
  {
   "cell_type": "code",
   "execution_count": 6,
   "id": "7d51bed4",
   "metadata": {},
   "outputs": [
    {
     "data": {
      "text/plain": [
       "array('ab', dtype='<U2')"
      ]
     },
     "execution_count": 6,
     "metadata": {},
     "output_type": "execute_result"
    }
   ],
   "source": [
    "np.asanyarray('ab')"
   ]
  },
  {
   "cell_type": "code",
   "execution_count": 41,
   "id": "d3d8ec23",
   "metadata": {},
   "outputs": [
    {
     "data": {
      "text/plain": [
       "array([2.+0.j, 3.+0.j, 3.+2.j])"
      ]
     },
     "execution_count": 41,
     "metadata": {},
     "output_type": "execute_result"
    }
   ],
   "source": [
    "np.array([ 2, 3.,3+2j])"
   ]
  },
  {
   "cell_type": "code",
   "execution_count": 42,
   "id": "9fd27d0c",
   "metadata": {},
   "outputs": [
    {
     "name": "stdout",
     "output_type": "stream",
     "text": [
      "[1 2 3]\n",
      "int32\n"
     ]
    }
   ],
   "source": [
    "\n",
    "\n",
    "arr = np.array([1.1, 2.1, 3.1])\n",
    "\n",
    "newarr = arr.astype('i')\n",
    "\n",
    "print(newarr)\n",
    "print(newarr.dtype)"
   ]
  },
  {
   "cell_type": "code",
   "execution_count": 44,
   "id": "afc3d339",
   "metadata": {},
   "outputs": [
    {
     "data": {
      "text/plain": [
       "{'data': (2732510987136, False),\n",
       " 'strides': None,\n",
       " 'descr': [('', '<f8')],\n",
       " 'typestr': '<f8',\n",
       " 'shape': (3,),\n",
       " 'version': 3}"
      ]
     },
     "execution_count": 44,
     "metadata": {},
     "output_type": "execute_result"
    }
   ],
   "source": [
    "arr.__array_interface__"
   ]
  },
  {
   "cell_type": "code",
   "execution_count": 45,
   "id": "18e798a4",
   "metadata": {},
   "outputs": [
    {
     "data": {
      "text/plain": [
       "{'data': (2732510987616, False),\n",
       " 'strides': None,\n",
       " 'descr': [('', '<i4')],\n",
       " 'typestr': '<i4',\n",
       " 'shape': (3,),\n",
       " 'version': 3}"
      ]
     },
     "execution_count": 45,
     "metadata": {},
     "output_type": "execute_result"
    }
   ],
   "source": [
    "newarr.__array_interface__"
   ]
  },
  {
   "cell_type": "code",
   "execution_count": 46,
   "id": "5436695d",
   "metadata": {},
   "outputs": [],
   "source": [
    "new = newarr"
   ]
  },
  {
   "cell_type": "code",
   "execution_count": 47,
   "id": "66d5f286",
   "metadata": {},
   "outputs": [
    {
     "data": {
      "text/plain": [
       "{'data': (2732510987616, False),\n",
       " 'strides': None,\n",
       " 'descr': [('', '<i4')],\n",
       " 'typestr': '<i4',\n",
       " 'shape': (3,),\n",
       " 'version': 3}"
      ]
     },
     "execution_count": 47,
     "metadata": {},
     "output_type": "execute_result"
    }
   ],
   "source": [
    "new.__array_interface__"
   ]
  },
  {
   "cell_type": "code",
   "execution_count": 52,
   "id": "899f1fb5",
   "metadata": {},
   "outputs": [
    {
     "name": "stdout",
     "output_type": "stream",
     "text": [
      "Array 1:\n",
      "[[ 1  2  3  4]\n",
      " [ 5  6  7  8]\n",
      " [ 9 10 11 12]]\n",
      "\n",
      "Array 2:\n",
      "[[1 2]\n",
      " [3 4]]\n"
     ]
    }
   ],
   "source": [
    "import numpy as np\n",
    "\n",
    "def create_array(rows, columns):\n",
    "    value = rows*columns\n",
    "    return np.arange(1,value+1).reshape(rows,columns)\n",
    "#     pass\n",
    "\n",
    "# Test cases\n",
    "rows1, columns1 = 3, 4\n",
    "rows2, columns2 = 2, 2\n",
    "\n",
    "array1 = create_array(rows1, columns1)\n",
    "array2 = create_array(rows2, columns2)\n",
    "\n",
    "print(\"Array 1:\")\n",
    "print(array1)\n",
    "\n",
    "print(\"\\nArray 2:\")\n",
    "print(array2)\n"
   ]
  },
  {
   "cell_type": "markdown",
   "id": "1f1f1c3d",
   "metadata": {},
   "source": [
    "<b>Create a l1=[1,2,3,4,5] into a 5-d array</b>"
   ]
  },
  {
   "cell_type": "code",
   "execution_count": 56,
   "id": "89e4ef08",
   "metadata": {},
   "outputs": [
    {
     "data": {
      "text/plain": [
       "array([[[[[1, 2, 3, 4, 5]]]]])"
      ]
     },
     "execution_count": 56,
     "metadata": {},
     "output_type": "execute_result"
    }
   ],
   "source": [
    "np.array([1,2,3,4,5],ndmin = 5)"
   ]
  },
  {
   "cell_type": "code",
   "execution_count": 57,
   "id": "75f646e4",
   "metadata": {},
   "outputs": [
    {
     "data": {
      "text/plain": [
       "(1, 1, 1, 1, 5)"
      ]
     },
     "execution_count": 57,
     "metadata": {},
     "output_type": "execute_result"
    }
   ],
   "source": [
    "np.array([1,2,3,4,5],ndmin = 5).shape"
   ]
  },
  {
   "cell_type": "markdown",
   "id": "bb4339cc",
   "metadata": {},
   "source": [
    "<b> Create a ndarray and change it's data type</b>"
   ]
  },
  {
   "cell_type": "code",
   "execution_count": 58,
   "id": "e2bf6f30",
   "metadata": {},
   "outputs": [],
   "source": [
    "arr = np.array([1,2,3,4,5])"
   ]
  },
  {
   "cell_type": "code",
   "execution_count": 59,
   "id": "f26f50ae",
   "metadata": {},
   "outputs": [
    {
     "data": {
      "text/plain": [
       "dtype('int32')"
      ]
     },
     "execution_count": 59,
     "metadata": {},
     "output_type": "execute_result"
    }
   ],
   "source": [
    "arr.dtype"
   ]
  },
  {
   "cell_type": "code",
   "execution_count": 60,
   "id": "fdd3c89b",
   "metadata": {},
   "outputs": [],
   "source": [
    "new_arr = arr.astype('f')"
   ]
  },
  {
   "cell_type": "code",
   "execution_count": 61,
   "id": "2abb3122",
   "metadata": {},
   "outputs": [
    {
     "data": {
      "text/plain": [
       "dtype('float32')"
      ]
     },
     "execution_count": 61,
     "metadata": {},
     "output_type": "execute_result"
    }
   ],
   "source": [
    "new_arr.dtype"
   ]
  },
  {
   "cell_type": "markdown",
   "id": "4c240d55",
   "metadata": {},
   "source": [
    "<b> Create copy and view of an ndarray and then check it's functionality and base</b>"
   ]
  },
  {
   "cell_type": "code",
   "execution_count": 62,
   "id": "a30cc664",
   "metadata": {},
   "outputs": [],
   "source": [
    "a = np.array([1,2,3,4,5])"
   ]
  },
  {
   "cell_type": "code",
   "execution_count": 63,
   "id": "6e6c4100",
   "metadata": {},
   "outputs": [],
   "source": [
    "b = a.copy()"
   ]
  },
  {
   "cell_type": "code",
   "execution_count": 64,
   "id": "6bf1cc13",
   "metadata": {},
   "outputs": [],
   "source": [
    "c = a.view()"
   ]
  },
  {
   "cell_type": "code",
   "execution_count": 65,
   "id": "496d149b",
   "metadata": {},
   "outputs": [],
   "source": [
    "b[0]= 25"
   ]
  },
  {
   "cell_type": "code",
   "execution_count": 67,
   "id": "b069d54d",
   "metadata": {},
   "outputs": [
    {
     "name": "stdout",
     "output_type": "stream",
     "text": [
      "[1 2 3 4 5]\n",
      "[25  2  3  4  5]\n"
     ]
    }
   ],
   "source": [
    "print(a)\n",
    "print(b)"
   ]
  },
  {
   "cell_type": "code",
   "execution_count": 68,
   "id": "8d6fd2fe",
   "metadata": {},
   "outputs": [],
   "source": [
    "c[0]=25"
   ]
  },
  {
   "cell_type": "code",
   "execution_count": 69,
   "id": "b73dd306",
   "metadata": {},
   "outputs": [
    {
     "name": "stdout",
     "output_type": "stream",
     "text": [
      "[25  2  3  4  5]\n",
      "[25  2  3  4  5]\n"
     ]
    }
   ],
   "source": [
    "print(a)\n",
    "print(c)"
   ]
  },
  {
   "cell_type": "code",
   "execution_count": 70,
   "id": "623620a3",
   "metadata": {},
   "outputs": [
    {
     "name": "stdout",
     "output_type": "stream",
     "text": [
      "None\n",
      "[25  2  3  4  5]\n"
     ]
    }
   ],
   "source": [
    "print(b.base)\n",
    "print(c.base)"
   ]
  },
  {
   "cell_type": "markdown",
   "id": "0388e1ff",
   "metadata": {},
   "source": [
    "<b> Create ndarray using different data structures</b>"
   ]
  },
  {
   "cell_type": "code",
   "execution_count": 71,
   "id": "6e5a93a4",
   "metadata": {},
   "outputs": [
    {
     "data": {
      "text/plain": [
       "array([['1', '2', '3'],\n",
       "       ['a', 'b', 'c']], dtype='<U11')"
      ]
     },
     "execution_count": 71,
     "metadata": {},
     "output_type": "execute_result"
    }
   ],
   "source": [
    "np.array([[1,2,3],['a','b','c']])"
   ]
  },
  {
   "cell_type": "code",
   "execution_count": 73,
   "id": "5509a2b5",
   "metadata": {},
   "outputs": [
    {
     "data": {
      "text/plain": [
       "array([['(1+2j)', '(2+3j)', '(3+6j)'],\n",
       "       ['a', 'b', 'c']], dtype='<U64')"
      ]
     },
     "execution_count": 73,
     "metadata": {},
     "output_type": "execute_result"
    }
   ],
   "source": [
    "np.array([[1+2j,2+3j,3+6j],['a','b','c']])"
   ]
  },
  {
   "cell_type": "code",
   "execution_count": 74,
   "id": "9e5b36c5",
   "metadata": {},
   "outputs": [
    {
     "data": {
      "text/plain": [
       "array([[1.+2.j, 2.+3.j, 3.+6.j],\n",
       "       [4.+0.j, 5.+0.j, 6.+0.j]])"
      ]
     },
     "execution_count": 74,
     "metadata": {},
     "output_type": "execute_result"
    }
   ],
   "source": [
    "np.array([[1+2j,2+3j,3+6j],[4,5,6]])"
   ]
  },
  {
   "cell_type": "code",
   "execution_count": 81,
   "id": "afdebbd1",
   "metadata": {},
   "outputs": [
    {
     "data": {
      "text/plain": [
       "array([[[1, 3],\n",
       "        [2, 6]],\n",
       "\n",
       "       [[3, 6],\n",
       "        [4, 9]]])"
      ]
     },
     "execution_count": 81,
     "metadata": {},
     "output_type": "execute_result"
    }
   ],
   "source": [
    "np.array([[(1,3),(2,6)],[(3,6),(4,9)]])"
   ]
  },
  {
   "cell_type": "code",
   "execution_count": 82,
   "id": "41264c84",
   "metadata": {},
   "outputs": [
    {
     "data": {
      "text/plain": [
       "array([2, 3, 4])"
      ]
     },
     "execution_count": 82,
     "metadata": {},
     "output_type": "execute_result"
    }
   ],
   "source": [
    "np.array((2,3,4))"
   ]
  },
  {
   "cell_type": "code",
   "execution_count": 86,
   "id": "de242efb",
   "metadata": {},
   "outputs": [
    {
     "data": {
      "text/plain": [
       "array([[[[[[[[[[1, 2, 3],\n",
       "               [4, 5, 6]]]]]]]]]])"
      ]
     },
     "execution_count": 86,
     "metadata": {},
     "output_type": "execute_result"
    }
   ],
   "source": [
    "np.array(((1,2,3),[4,5,6]),ndmin=10)"
   ]
  },
  {
   "cell_type": "code",
   "execution_count": null,
   "id": "3ccd0659",
   "metadata": {},
   "outputs": [],
   "source": []
  }
 ],
 "metadata": {
  "kernelspec": {
   "display_name": "Python 3 (ipykernel)",
   "language": "python",
   "name": "python3"
  },
  "language_info": {
   "codemirror_mode": {
    "name": "ipython",
    "version": 3
   },
   "file_extension": ".py",
   "mimetype": "text/x-python",
   "name": "python",
   "nbconvert_exporter": "python",
   "pygments_lexer": "ipython3",
   "version": "3.11.5"
  }
 },
 "nbformat": 4,
 "nbformat_minor": 5
}
