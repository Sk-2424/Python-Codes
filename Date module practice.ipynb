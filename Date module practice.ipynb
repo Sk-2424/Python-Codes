{
 "cells": [
  {
   "cell_type": "markdown",
   "id": "007ebdf5",
   "metadata": {},
   "source": [
    "<b>Write a python script to print the current date in the following format \n",
    "“Sun May 29 02:26:23 IST 2017”</b>"
   ]
  },
  {
   "cell_type": "code",
   "execution_count": 12,
   "id": "b4c540e2",
   "metadata": {},
   "outputs": [],
   "source": [
    "import datetime as dt \n",
    "\n",
    "x = dt.datetime.now()"
   ]
  },
  {
   "cell_type": "code",
   "execution_count": 13,
   "id": "a4956f7c",
   "metadata": {},
   "outputs": [
    {
     "name": "stdout",
     "output_type": "stream",
     "text": [
      "Current date: Sat Dec 09 15:43:30 IST 2023\n"
     ]
    }
   ],
   "source": [
    "import datetime\n",
    "import pytz\n",
    "\n",
    "# Get the current local time\n",
    "local_now = datetime.datetime.now()\n",
    "\n",
    "# Set the desired timezone (e.g., 'Asia/Kolkata' for IST)\n",
    "desired_timezone = pytz.timezone('Asia/Kolkata')\n",
    "\n",
    "# Convert the local time to the desired timezone\n",
    "localized_time = desired_timezone.localize(local_now)\n",
    "\n",
    "# Format the date in the desired format\n",
    "formatted_date = localized_time.strftime('%a %b %d %H:%M:%S %Z %Y')\n",
    "\n",
    "# Print the formatted date\n",
    "print(\"Current date:\", formatted_date)\n"
   ]
  },
  {
   "cell_type": "code",
   "execution_count": 14,
   "id": "647913cb",
   "metadata": {},
   "outputs": [
    {
     "data": {
      "text/plain": [
       "'Sat Dec 09 15:43:35 India Standard Time 2023'"
      ]
     },
     "execution_count": 14,
     "metadata": {},
     "output_type": "execute_result"
    }
   ],
   "source": [
    "import time\n",
    "ll = time.localtime()\n",
    "time.strftime('%a %b %d %H:%M:%S %Z %Y',ll)"
   ]
  },
  {
   "cell_type": "code",
   "execution_count": 15,
   "id": "050e309b",
   "metadata": {},
   "outputs": [
    {
     "name": "stdout",
     "output_type": "stream",
     "text": [
      "2022-01-07 01:01:01.000331\n"
     ]
    }
   ],
   "source": [
    "print(dt.datetime(2022,1,7,1,1,1,0o513))"
   ]
  },
  {
   "cell_type": "markdown",
   "id": "841811b7",
   "metadata": {},
   "source": [
    "<b>Age Calculator:\n",
    "Write a program that takes a birthdate as input and calculates the age of a person.</b>"
   ]
  },
  {
   "cell_type": "code",
   "execution_count": 22,
   "id": "2477b84e",
   "metadata": {},
   "outputs": [],
   "source": [
    "def age(dob):\n",
    "    dob_date = dt.datetime.strptime(dob,\"%Y-%m-%d\")\n",
    "    current_date = dt.datetime.now()\n",
    "    return int(current_date.strftime('%Y')) - int(dob_date.strftime('%Y'))"
   ]
  },
  {
   "cell_type": "code",
   "execution_count": 23,
   "id": "defd0186",
   "metadata": {},
   "outputs": [
    {
     "name": "stdout",
     "output_type": "stream",
     "text": [
      "Enter Your birthdate 1998-01-10\n"
     ]
    },
    {
     "data": {
      "text/plain": [
       "25"
      ]
     },
     "execution_count": 23,
     "metadata": {},
     "output_type": "execute_result"
    }
   ],
   "source": [
    "age(input(\"Enter Your birthdate \"))"
   ]
  },
  {
   "cell_type": "markdown",
   "id": "ebcd0a6f",
   "metadata": {},
   "source": [
    "<b>Days Until Next Birthday:\n",
    "Given a birthdate, calculate and print the number of days remaining until the next birthday.</b>"
   ]
  },
  {
   "cell_type": "code",
   "execution_count": 81,
   "id": "6037fc78",
   "metadata": {},
   "outputs": [],
   "source": [
    "def days_until_next_birthday(dob):\n",
    "    curr_date = dt.datetime.now()\n",
    "    dob_date = dt.datetime.strptime(dob, '%Y-%m-%d')\n",
    "    if (dob_date.month >= curr_date.month) and (dob_date.day>=curr_date.day):\n",
    "        next_birth_date = dt.datetime(curr_date.year,dob_date.month,dob_date.day)\n",
    "    else:\n",
    "        next_birth_date = dt.datetime((curr_date.year+1),dob_date.month,dob_date.day)\n",
    "    diff = next_birth_date - curr_date\n",
    "    return diff.days"
   ]
  },
  {
   "cell_type": "code",
   "execution_count": 44,
   "id": "ab73aa4b",
   "metadata": {},
   "outputs": [
    {
     "name": "stdout",
     "output_type": "stream",
     "text": [
      "Enter Your birthdate 1998-01-10\n"
     ]
    },
    {
     "data": {
      "text/plain": [
       "31"
      ]
     },
     "execution_count": 44,
     "metadata": {},
     "output_type": "execute_result"
    }
   ],
   "source": [
    "days_until_next_birthday(input(\"Enter Your birthdate \"))"
   ]
  },
  {
   "cell_type": "markdown",
   "id": "3ec3b6f2",
   "metadata": {},
   "source": [
    "<b>Date Formatting:\n",
    "Write a function that takes a datetime object and returns a string in the format \"YYYY-MM-DD HH:MM:SS\".</b>"
   ]
  },
  {
   "cell_type": "code",
   "execution_count": 45,
   "id": "3bbb78fc",
   "metadata": {},
   "outputs": [],
   "source": [
    "def change_date_format(given_date):\n",
    "    return given_date.strftime('%Y-%m-%d %X')"
   ]
  },
  {
   "cell_type": "code",
   "execution_count": 50,
   "id": "e69ab797",
   "metadata": {},
   "outputs": [
    {
     "data": {
      "text/plain": [
       "'2022-05-08 06:08:56'"
      ]
     },
     "execution_count": 50,
     "metadata": {},
     "output_type": "execute_result"
    }
   ],
   "source": [
    "change_date_format(dt.datetime(2022,5,8,6,8,56))"
   ]
  },
  {
   "cell_type": "markdown",
   "id": "2192613c",
   "metadata": {},
   "source": [
    "<b>Timezone Conversion:\n",
    "Create a program that converts a given datetime from one timezone to another.</b>"
   ]
  },
  {
   "cell_type": "code",
   "execution_count": 52,
   "id": "4e6cb06e",
   "metadata": {},
   "outputs": [],
   "source": [
    "import datetime as dt \n",
    "import pytz"
   ]
  },
  {
   "cell_type": "code",
   "execution_count": 53,
   "id": "090aea21",
   "metadata": {},
   "outputs": [
    {
     "name": "stdout",
     "output_type": "stream",
     "text": [
      "Enter the date 2023-01-20\n"
     ]
    }
   ],
   "source": [
    "inp = input(\"Enter the date \")"
   ]
  },
  {
   "cell_type": "code",
   "execution_count": 54,
   "id": "73e6b08b",
   "metadata": {},
   "outputs": [],
   "source": [
    "given_date = dt.datetime(2023,1,20)"
   ]
  },
  {
   "cell_type": "code",
   "execution_count": 71,
   "id": "0ac2750a",
   "metadata": {},
   "outputs": [],
   "source": [
    "def change_timezone(given_Date,inital_timezone,timezone):\n",
    "    orignal_timezone = pytz.timezone(inital_timezone)      # Created initial timezone object\n",
    "    given_Date = orignal_timezone.localize(given_Date)     # Loclize the given date \n",
    "    target_timezone = pytz.timezone(timezone)              # Created target timezone object\n",
    "    return given_Date.astimezone(target_timezone)          # Converted the timezone"
   ]
  },
  {
   "cell_type": "code",
   "execution_count": 72,
   "id": "aa989325",
   "metadata": {},
   "outputs": [
    {
     "name": "stdout",
     "output_type": "stream",
     "text": [
      "2023-01-19 19:30:00+01:00\n"
     ]
    }
   ],
   "source": [
    "print(change_timezone(given_date,'Asia/Kolkata','Europe/Vienna'))"
   ]
  },
  {
   "cell_type": "code",
   "execution_count": 58,
   "id": "976f943e",
   "metadata": {},
   "outputs": [
    {
     "name": "stdout",
     "output_type": "stream",
     "text": [
      "2023-01-20 00:00:00\n"
     ]
    }
   ],
   "source": [
    "print(given_date)"
   ]
  },
  {
   "cell_type": "markdown",
   "id": "6fdd63d4",
   "metadata": {},
   "source": [
    "<b>Time Difference:\n",
    "Write a function that calculates and prints the difference in seconds between two given datetime objects.</b>"
   ]
  },
  {
   "cell_type": "code",
   "execution_count": 86,
   "id": "7be85a06",
   "metadata": {},
   "outputs": [],
   "source": [
    "from datetime import datetime\n",
    "\n",
    "def time_difference_in_seconds(datetime1, datetime2):\n",
    "    # Calculate the time difference\n",
    "    time_difference = abs((datetime1 - datetime2).total_seconds())\n",
    "\n",
    "    return time_difference\n"
   ]
  },
  {
   "cell_type": "markdown",
   "id": "e0a8a870",
   "metadata": {},
   "source": [
    "<b>Future Date Predictor:\n",
    "Given a date, ask the user for a number of days, and then calculate and print the date that many days in the future.</b>"
   ]
  },
  {
   "cell_type": "code",
   "execution_count": 91,
   "id": "35f37c9c",
   "metadata": {},
   "outputs": [],
   "source": [
    "from datetime import timedelta"
   ]
  },
  {
   "cell_type": "code",
   "execution_count": 109,
   "id": "9548036b",
   "metadata": {},
   "outputs": [],
   "source": [
    "dtt = dt.datetime.strptime('2023-09-01','%Y-%m-%d')"
   ]
  },
  {
   "cell_type": "code",
   "execution_count": 110,
   "id": "20905225",
   "metadata": {},
   "outputs": [
    {
     "name": "stdout",
     "output_type": "stream",
     "text": [
      "2023-09-11 00:00:00\n"
     ]
    }
   ],
   "source": [
    "print(dtt + timedelta(days=10))"
   ]
  },
  {
   "cell_type": "markdown",
   "id": "71beb40f",
   "metadata": {},
   "source": [
    "<b>Meeting Scheduler:\n",
    "Write a program that, given a list of people's time zones, finds a suitable time slot for a meeting that accommodates all participants.</b>"
   ]
  },
  {
   "cell_type": "code",
   "execution_count": null,
   "id": "fe2f1d08",
   "metadata": {},
   "outputs": [],
   "source": []
  },
  {
   "cell_type": "code",
   "execution_count": null,
   "id": "7bc3a6d0",
   "metadata": {},
   "outputs": [],
   "source": []
  },
  {
   "cell_type": "markdown",
   "id": "ae291678",
   "metadata": {},
   "source": [
    "<b>Leap Year Checker:\n",
    "Write a function that checks whether a given year is a leap year.</b>"
   ]
  },
  {
   "cell_type": "code",
   "execution_count": 111,
   "id": "6601b20c",
   "metadata": {},
   "outputs": [],
   "source": [
    "def leap_year_checker(date):\n",
    "    date = dt.datetime.strptime(date,'%Y-%m-%d')\n",
    "    if date.year % 4 == 0 :\n",
    "        return \"leap_year\"\n",
    "    else:\n",
    "        return \"Non_Leap_year\""
   ]
  },
  {
   "cell_type": "code",
   "execution_count": 113,
   "id": "4e15344c",
   "metadata": {},
   "outputs": [
    {
     "name": "stdout",
     "output_type": "stream",
     "text": [
      "Enter the date 2016-08-07\n"
     ]
    },
    {
     "data": {
      "text/plain": [
       "'leap_year'"
      ]
     },
     "execution_count": 113,
     "metadata": {},
     "output_type": "execute_result"
    }
   ],
   "source": [
    "leap_year_checker(input('Enter the date '))"
   ]
  },
  {
   "cell_type": "markdown",
   "id": "01fbbe02",
   "metadata": {},
   "source": [
    "<b> Date Range Generator:\n",
    "Write a program that generates and prints a list of dates within a given range.</b>"
   ]
  },
  {
   "cell_type": "code",
   "execution_count": 125,
   "id": "491b025f",
   "metadata": {},
   "outputs": [],
   "source": [
    "start_date = dt.datetime.strptime('2023-01-01','%Y-%m-%d')"
   ]
  },
  {
   "cell_type": "code",
   "execution_count": 126,
   "id": "1affab7b",
   "metadata": {},
   "outputs": [],
   "source": [
    "end_date = dt.datetime.strptime('2023-01-05','%Y-%m-%d')"
   ]
  },
  {
   "cell_type": "code",
   "execution_count": 127,
   "id": "dfe3c2d2",
   "metadata": {},
   "outputs": [],
   "source": [
    "diff_dt = end_date - start_date\n",
    "no_of_days = diff_dt.days"
   ]
  },
  {
   "cell_type": "code",
   "execution_count": 128,
   "id": "643a7f4c",
   "metadata": {},
   "outputs": [
    {
     "data": {
      "text/plain": [
       "4"
      ]
     },
     "execution_count": 128,
     "metadata": {},
     "output_type": "execute_result"
    }
   ],
   "source": [
    "no_of_days"
   ]
  },
  {
   "cell_type": "code",
   "execution_count": 129,
   "id": "6ffa1620",
   "metadata": {},
   "outputs": [
    {
     "name": "stdout",
     "output_type": "stream",
     "text": [
      "2023-01-01\n",
      "2023-01-02\n",
      "2023-01-03\n",
      "2023-01-04\n",
      "2023-01-05\n"
     ]
    }
   ],
   "source": [
    "for i in range(0,no_of_days+1):\n",
    "    new_date = start_date + timedelta(days=i)\n",
    "    print(new_date.strftime('%Y-%m-%d'))"
   ]
  },
  {
   "cell_type": "markdown",
   "id": "c1cffe2d",
   "metadata": {},
   "source": [
    "<b>Time Since Event:\n",
    "Given a past event's timestamp, calculate and print the time elapsed since that event in years, months, days, hours, and minutes</b>"
   ]
  },
  {
   "cell_type": "code",
   "execution_count": 130,
   "id": "73ba3bec",
   "metadata": {},
   "outputs": [],
   "source": [
    "current_date = dt.datetime.now()"
   ]
  },
  {
   "cell_type": "code",
   "execution_count": 132,
   "id": "5e3bed7f",
   "metadata": {},
   "outputs": [],
   "source": [
    "give_date = dt.datetime(2023,5,9,13,32,45)"
   ]
  },
  {
   "cell_type": "code",
   "execution_count": 133,
   "id": "e9e286ce",
   "metadata": {},
   "outputs": [],
   "source": [
    "new_date_diff = current_date - give_date"
   ]
  },
  {
   "cell_type": "code",
   "execution_count": 135,
   "id": "c663739c",
   "metadata": {},
   "outputs": [
    {
     "name": "stdout",
     "output_type": "stream",
     "text": [
      "214\n"
     ]
    }
   ],
   "source": [
    "print(new_date_diff.days)"
   ]
  },
  {
   "cell_type": "code",
   "execution_count": 137,
   "id": "78bf1606",
   "metadata": {},
   "outputs": [
    {
     "name": "stdout",
     "output_type": "stream",
     "text": [
      "Time elapsed since the event:\n",
      "  0 years\n",
      "  7 months\n",
      "  0 days\n",
      "  4 hours\n",
      "  38 minutes\n"
     ]
    }
   ],
   "source": [
    "from datetime import datetime\n",
    "from dateutil.relativedelta import relativedelta\n",
    "\n",
    "def time_since_event(event_timestamp):\n",
    "    # Get the current time\n",
    "    current_time = datetime.now()\n",
    "\n",
    "    # Calculate the time difference\n",
    "    time_difference = relativedelta(current_time, event_timestamp)\n",
    "\n",
    "    # Print the result\n",
    "    print(f\"Time elapsed since the event:\")\n",
    "    print(f\"  {time_difference.years} years\")\n",
    "    print(f\"  {time_difference.months} months\")\n",
    "    print(f\"  {time_difference.days} days\")\n",
    "    print(f\"  {time_difference.hours} hours\")\n",
    "    print(f\"  {time_difference.minutes} minutes\")\n",
    "\n",
    "# Example: Replace 'YYYY', 'MM', 'DD', 'hh', 'mm', and 'ss' with the event timestamp\n",
    "# event_timestamp = datetime(YYYY, MM, DD, hh, mm, ss)\n",
    "\n",
    "# Call the function with the event timestamp\n",
    "time_since_event(give_date)\n"
   ]
  }
 ],
 "metadata": {
  "kernelspec": {
   "display_name": "Python 3 (ipykernel)",
   "language": "python",
   "name": "python3"
  },
  "language_info": {
   "codemirror_mode": {
    "name": "ipython",
    "version": 3
   },
   "file_extension": ".py",
   "mimetype": "text/x-python",
   "name": "python",
   "nbconvert_exporter": "python",
   "pygments_lexer": "ipython3",
   "version": "3.11.5"
  }
 },
 "nbformat": 4,
 "nbformat_minor": 5
}
