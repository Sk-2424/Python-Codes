{
 "cells": [
  {
   "cell_type": "markdown",
   "id": "8bf9cd55",
   "metadata": {},
   "source": [
    "<b>Even Numbers:\n",
    "Write a function that uses filter to return a list of even numbers from a given list.</b>"
   ]
  },
  {
   "cell_type": "code",
   "execution_count": 1,
   "id": "b2a15222",
   "metadata": {},
   "outputs": [],
   "source": [
    "l1 = [1,2,3,4,5,6,7,8,9]"
   ]
  },
  {
   "cell_type": "code",
   "execution_count": 4,
   "id": "4bc88766",
   "metadata": {},
   "outputs": [],
   "source": [
    "l2 = list(filter(lambda x : x%2==0, l1))"
   ]
  },
  {
   "cell_type": "code",
   "execution_count": 5,
   "id": "01baa7a5",
   "metadata": {},
   "outputs": [
    {
     "data": {
      "text/plain": [
       "[2, 4, 6, 8]"
      ]
     },
     "execution_count": 5,
     "metadata": {},
     "output_type": "execute_result"
    }
   ],
   "source": [
    "l2"
   ]
  },
  {
   "cell_type": "markdown",
   "id": "ae0c9ebe",
   "metadata": {},
   "source": [
    "<b>Positive Numbers:\n",
    "Create a function that uses filter to filter out negative numbers from a list.</b>"
   ]
  },
  {
   "cell_type": "code",
   "execution_count": 8,
   "id": "d01e9f97",
   "metadata": {},
   "outputs": [],
   "source": [
    "l3 = list(filter(lambda x : x>=0 ,l1))"
   ]
  },
  {
   "cell_type": "code",
   "execution_count": 9,
   "id": "3b6fc1c0",
   "metadata": {},
   "outputs": [
    {
     "data": {
      "text/plain": [
       "[1, 2, 3, 4, 5, 6, 7, 8, 9]"
      ]
     },
     "execution_count": 9,
     "metadata": {},
     "output_type": "execute_result"
    }
   ],
   "source": [
    "l3"
   ]
  },
  {
   "cell_type": "markdown",
   "id": "ca0c5c98",
   "metadata": {},
   "source": [
    "<b>Prime Numbers:\n",
    "Implement a function to filter out prime numbers from a list.</b>"
   ]
  },
  {
   "cell_type": "code",
   "execution_count": 13,
   "id": "ae43f22d",
   "metadata": {},
   "outputs": [],
   "source": [
    "def is_prime(n):\n",
    "    count = 0\n",
    "    for i in range(1,n+1):\n",
    "        if n%i==0:\n",
    "            count +=1\n",
    "    if count == 2:\n",
    "        return n"
   ]
  },
  {
   "cell_type": "code",
   "execution_count": 14,
   "id": "26d2d84b",
   "metadata": {},
   "outputs": [],
   "source": [
    " l4=list(filter(is_prime ,l1))"
   ]
  },
  {
   "cell_type": "code",
   "execution_count": 15,
   "id": "8a0b2d2c",
   "metadata": {},
   "outputs": [
    {
     "data": {
      "text/plain": [
       "[2, 3, 5, 7]"
      ]
     },
     "execution_count": 15,
     "metadata": {},
     "output_type": "execute_result"
    }
   ],
   "source": [
    "l4"
   ]
  },
  {
   "cell_type": "markdown",
   "id": "3684a246",
   "metadata": {},
   "source": [
    "<b>Square Elements:\n",
    "Write a function that uses map to return a list of squares of each element in a given list.</b>"
   ]
  },
  {
   "cell_type": "code",
   "execution_count": 16,
   "id": "35325f73",
   "metadata": {},
   "outputs": [],
   "source": [
    "l5 = list(map(lambda x : x*x , l1))"
   ]
  },
  {
   "cell_type": "code",
   "execution_count": 17,
   "id": "b6f0fb68",
   "metadata": {},
   "outputs": [
    {
     "data": {
      "text/plain": [
       "[1, 4, 9, 16, 25, 36, 49, 64, 81]"
      ]
     },
     "execution_count": 17,
     "metadata": {},
     "output_type": "execute_result"
    }
   ],
   "source": [
    "l5"
   ]
  },
  {
   "cell_type": "markdown",
   "id": "cff44728",
   "metadata": {},
   "source": [
    "<b>String Lengths:\n",
    "Create a function to map a list of strings to their respective lengths.</b>"
   ]
  },
  {
   "cell_type": "code",
   "execution_count": 18,
   "id": "e9008329",
   "metadata": {},
   "outputs": [],
   "source": [
    "l6 = ['sumit','devesh','nidhi','rachit']"
   ]
  },
  {
   "cell_type": "code",
   "execution_count": 19,
   "id": "1f388e87",
   "metadata": {},
   "outputs": [],
   "source": [
    "l7 = list(map(lambda x : len(x),l6))"
   ]
  },
  {
   "cell_type": "code",
   "execution_count": 20,
   "id": "2ce0987c",
   "metadata": {},
   "outputs": [
    {
     "data": {
      "text/plain": [
       "[5, 6, 5, 6]"
      ]
     },
     "execution_count": 20,
     "metadata": {},
     "output_type": "execute_result"
    }
   ],
   "source": [
    "l7"
   ]
  },
  {
   "cell_type": "markdown",
   "id": "6021aa54",
   "metadata": {},
   "source": [
    "<b>Temperature Conversion:\n",
    "Implement a function that converts a list of temperatures from Celsius to Fahrenheit using map.</b>"
   ]
  },
  {
   "cell_type": "code",
   "execution_count": 21,
   "id": "a3b72394",
   "metadata": {},
   "outputs": [],
   "source": [
    "def celsius_to_fahrenheit(celsius):\n",
    "    return (celsius * 1.8) + 32"
   ]
  },
  {
   "cell_type": "code",
   "execution_count": 22,
   "id": "1ecf5377",
   "metadata": {},
   "outputs": [],
   "source": [
    "temp = [30,40,50]"
   ]
  },
  {
   "cell_type": "code",
   "execution_count": 23,
   "id": "f8f69c13",
   "metadata": {},
   "outputs": [
    {
     "name": "stdout",
     "output_type": "stream",
     "text": [
      "[86.0, 104.0, 122.0]\n"
     ]
    }
   ],
   "source": [
    "print(list(map(celsius_to_fahrenheit,temp)))"
   ]
  },
  {
   "cell_type": "markdown",
   "id": "118fded1",
   "metadata": {},
   "source": [
    "<b>Sum of Elements:\n",
    "Write a function that uses reduce to calculate the sum of elements in a list.</b>"
   ]
  },
  {
   "cell_type": "code",
   "execution_count": 24,
   "id": "444b056d",
   "metadata": {},
   "outputs": [],
   "source": [
    "from functools import reduce"
   ]
  },
  {
   "cell_type": "code",
   "execution_count": 30,
   "id": "4fae11c9",
   "metadata": {},
   "outputs": [
    {
     "data": {
      "text/plain": [
       "45"
      ]
     },
     "execution_count": 30,
     "metadata": {},
     "output_type": "execute_result"
    }
   ],
   "source": [
    "reduce(lambda a,b:a+b,l1)"
   ]
  },
  {
   "cell_type": "markdown",
   "id": "37f1bbc6",
   "metadata": {},
   "source": [
    "<b>Product of Elements:\n",
    "Create a function to find the product of elements in a list using reduce.</b>"
   ]
  },
  {
   "cell_type": "code",
   "execution_count": 31,
   "id": "d16ee344",
   "metadata": {},
   "outputs": [
    {
     "data": {
      "text/plain": [
       "362880"
      ]
     },
     "execution_count": 31,
     "metadata": {},
     "output_type": "execute_result"
    }
   ],
   "source": [
    "reduce(lambda a,b:a*b,l1)"
   ]
  },
  {
   "cell_type": "markdown",
   "id": "c8f0b485",
   "metadata": {},
   "source": [
    "<b>Concatenate Strings:\n",
    "Implement a function that concatenates a list of strings into a single string using reduce.</b>"
   ]
  },
  {
   "cell_type": "code",
   "execution_count": 32,
   "id": "bde9a869",
   "metadata": {},
   "outputs": [
    {
     "data": {
      "text/plain": [
       "'sumitdeveshnidhirachit'"
      ]
     },
     "execution_count": 32,
     "metadata": {},
     "output_type": "execute_result"
    }
   ],
   "source": [
    "reduce(lambda a,b:a+b,l6)"
   ]
  },
  {
   "cell_type": "markdown",
   "id": "f847d890",
   "metadata": {},
   "source": [
    "<b>Write a function that filters out odd numbers and then squares the remaining even numbers in a list using filter and map.</b>"
   ]
  },
  {
   "cell_type": "code",
   "execution_count": 33,
   "id": "98fe95f3",
   "metadata": {},
   "outputs": [],
   "source": [
    "even = list(filter(lambda x : x%2==0,l1))"
   ]
  },
  {
   "cell_type": "code",
   "execution_count": 34,
   "id": "98ce1eb1",
   "metadata": {},
   "outputs": [
    {
     "name": "stdout",
     "output_type": "stream",
     "text": [
      "[4, 16, 36, 64]\n"
     ]
    }
   ],
   "source": [
    "print(list(map(lambda x:x**2,even)))"
   ]
  },
  {
   "cell_type": "markdown",
   "id": "0191e99f",
   "metadata": {},
   "source": [
    "<b>Filter, Map, and Reduce:\n",
    "Create a function that filters out negative numbers, squares the positive ones, and then calculates their sum using filter, map, and reduce.</b>"
   ]
  },
  {
   "cell_type": "code",
   "execution_count": 35,
   "id": "23342aac",
   "metadata": {},
   "outputs": [],
   "source": [
    "num = [1,2,-4,6,-8,9]"
   ]
  },
  {
   "cell_type": "code",
   "execution_count": 36,
   "id": "99c2b851",
   "metadata": {},
   "outputs": [],
   "source": [
    "pos = list(filter(lambda x:x>=0,num))"
   ]
  },
  {
   "cell_type": "code",
   "execution_count": 37,
   "id": "d3b37e32",
   "metadata": {},
   "outputs": [],
   "source": [
    "sqr_pos = list(map(lambda x:x**2,pos))"
   ]
  },
  {
   "cell_type": "code",
   "execution_count": 38,
   "id": "5e16b827",
   "metadata": {},
   "outputs": [
    {
     "data": {
      "text/plain": [
       "122"
      ]
     },
     "execution_count": 38,
     "metadata": {},
     "output_type": "execute_result"
    }
   ],
   "source": [
    "reduce(lambda x,y:x+y,sqr_pos)"
   ]
  },
  {
   "cell_type": "markdown",
   "id": "a8c31992",
   "metadata": {},
   "source": [
    "<b>Word Length Sum:\n",
    "Implement a function that takes a list of words, filters out words with even lengths, maps the remaining words to their lengths, and then calculates their sum using filter, map, and reduce.</b>"
   ]
  },
  {
   "cell_type": "code",
   "execution_count": 39,
   "id": "f1cfcc02",
   "metadata": {},
   "outputs": [
    {
     "data": {
      "text/plain": [
       "['sumit', 'devesh', 'nidhi', 'rachit']"
      ]
     },
     "execution_count": 39,
     "metadata": {},
     "output_type": "execute_result"
    }
   ],
   "source": [
    "l6"
   ]
  },
  {
   "cell_type": "code",
   "execution_count": 40,
   "id": "1c2e97f0",
   "metadata": {},
   "outputs": [],
   "source": [
    "even_len = list(filter(lambda x : len(x)%2==0,l6))"
   ]
  },
  {
   "cell_type": "code",
   "execution_count": 41,
   "id": "5196c2b5",
   "metadata": {},
   "outputs": [],
   "source": [
    "word_len = list(map(lambda x : len(x),even_len))"
   ]
  },
  {
   "cell_type": "code",
   "execution_count": 42,
   "id": "fb261223",
   "metadata": {},
   "outputs": [
    {
     "name": "stdout",
     "output_type": "stream",
     "text": [
      "12\n"
     ]
    }
   ],
   "source": [
    "print(reduce(lambda x,y:x+y,word_len))"
   ]
  },
  {
   "cell_type": "code",
   "execution_count": null,
   "id": "dd1209c5",
   "metadata": {},
   "outputs": [],
   "source": []
  },
  {
   "cell_type": "code",
   "execution_count": null,
   "id": "5f78d5d5",
   "metadata": {},
   "outputs": [],
   "source": []
  },
  {
   "cell_type": "code",
   "execution_count": null,
   "id": "b6f76046",
   "metadata": {},
   "outputs": [],
   "source": []
  }
 ],
 "metadata": {
  "kernelspec": {
   "display_name": "Python 3 (ipykernel)",
   "language": "python",
   "name": "python3"
  },
  "language_info": {
   "codemirror_mode": {
    "name": "ipython",
    "version": 3
   },
   "file_extension": ".py",
   "mimetype": "text/x-python",
   "name": "python",
   "nbconvert_exporter": "python",
   "pygments_lexer": "ipython3",
   "version": "3.11.5"
  }
 },
 "nbformat": 4,
 "nbformat_minor": 5
}
